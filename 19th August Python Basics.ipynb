{
 "cells": [
  {
   "cell_type": "code",
   "execution_count": 5,
   "id": "043790f2",
   "metadata": {},
   "outputs": [
    {
     "name": "stdout",
     "output_type": "stream",
     "text": [
      "10 20\n",
      "20 10\n"
     ]
    }
   ],
   "source": [
    "x=10\n",
    "y=20\n",
    "print(x,y)\n",
    "x=x+y\n",
    "y=x-y\n",
    "x=x-y\n",
    "print(x,y)"
   ]
  },
  {
   "cell_type": "code",
   "execution_count": 6,
   "id": "198786c6",
   "metadata": {},
   "outputs": [
    {
     "name": "stdout",
     "output_type": "stream",
     "text": [
      "Enter the length10\n",
      "Enter the width5\n",
      "50\n"
     ]
    }
   ],
   "source": [
    "length=int(input(\"Enter the length\"))\n",
    "width=int(input(\"Enter the width\"))\n",
    "area=length*width\n",
    "print(area)"
   ]
  },
  {
   "cell_type": "code",
   "execution_count": 9,
   "id": "3771ca51",
   "metadata": {},
   "outputs": [
    {
     "name": "stdout",
     "output_type": "stream",
     "text": [
      "Enter the celsius value: 67.34\n",
      "67.34 Celsius is equivalent to: 153.21 Fahrenheit\n"
     ]
    }
   ],
   "source": [
    "celsius=float(input(\"Enter the celsius value: \"))\n",
    "fahrenheit = (celsius * 1.8) + 32\n",
    "print('%.2f Celsius is equivalent to: %.2f Fahrenheit'\n",
    "      % (celsius, fahrenheit))"
   ]
  },
  {
   "cell_type": "markdown",
   "id": "80b2772c",
   "metadata": {},
   "source": [
    "TOPIC: String Based Questions\n",
    "    "
   ]
  },
  {
   "cell_type": "code",
   "execution_count": 1,
   "id": "0c6ba99e",
   "metadata": {},
   "outputs": [
    {
     "name": "stdout",
     "output_type": "stream",
     "text": [
      "Enter the string: Aishwarya\n",
      "9\n"
     ]
    }
   ],
   "source": [
    "x=input(\"Enter the string: \")\n",
    "length=len(x)\n",
    "print(length)"
   ]
  },
  {
   "cell_type": "code",
   "execution_count": null,
   "id": "9b9ce120",
   "metadata": {},
   "outputs": [],
   "source": [
    "string=input(\"Enter string:\")\n",
    "vowels=0\n",
    "for i in string:\n",
    "      if(i=='a' or i=='e' or i=='i' or i=='o' or i=='u' or i=='A' or i=='E' or i=='I' or i=='O' or i=='U'):\n",
    "            vowels=vowels+1\n",
    "print(\"Number of vowels are:\")\n",
    "print(vowels)"
   ]
  },
  {
   "cell_type": "code",
   "execution_count": 3,
   "id": "8ec1383a",
   "metadata": {},
   "outputs": [
    {
     "name": "stdout",
     "output_type": "stream",
     "text": [
      "Enter a string: pwskills\n",
      "pwskills\n",
      "sllikswp\n"
     ]
    }
   ],
   "source": [
    "s1=input(\"Enter a string: \")\n",
    "print(s1)\n",
    "print(s1[ : :-1])"
   ]
  },
  {
   "cell_type": "code",
   "execution_count": 1,
   "id": "0c819de6",
   "metadata": {},
   "outputs": [
    {
     "name": "stdout",
     "output_type": "stream",
     "text": [
      "Enter a string : mom\n",
      "Palindrome word\n"
     ]
    }
   ],
   "source": [
    "s2=input(\"Enter a string : \")\n",
    "s3=s2[ : :-1]\n",
    "if(s2==s3):\n",
    "    print('Palindrome word')\n",
    "else:\n",
    "    print('Not a Palindrome word')\n",
    "\n",
    "        "
   ]
  },
  {
   "cell_type": "code",
   "execution_count": 1,
   "id": "b1fbc109",
   "metadata": {},
   "outputs": [
    {
     "name": "stdout",
     "output_type": "stream",
     "text": [
      "Remove white spaces\n",
      "Removewhitespaces\n"
     ]
    }
   ],
   "source": [
    "str1=\"Remove white spaces\"\n",
    "print(str1)\n",
    "str1=str1.replace(\" \",\"\")\n",
    "print(str1)\n"
   ]
  },
  {
   "cell_type": "code",
   "execution_count": null,
   "id": "d8f132f0",
   "metadata": {},
   "outputs": [],
   "source": []
  }
 ],
 "metadata": {
  "kernelspec": {
   "display_name": "Python 3 (ipykernel)",
   "language": "python",
   "name": "python3"
  },
  "language_info": {
   "codemirror_mode": {
    "name": "ipython",
    "version": 3
   },
   "file_extension": ".py",
   "mimetype": "text/x-python",
   "name": "python",
   "nbconvert_exporter": "python",
   "pygments_lexer": "ipython3",
   "version": "3.9.13"
  }
 },
 "nbformat": 4,
 "nbformat_minor": 5
}
